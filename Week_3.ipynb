{
 "cells": [
  {
   "cell_type": "markdown",
   "metadata": {},
   "source": [
    "# Functions\n",
    "\n",
    "Functions:\n",
    "- enable you to break large programs into smaller, simpler pieces\n",
    "- improve readability and make code more approachable\n",
    "- allow for reuse and refactoring"
   ]
  },
  {
   "cell_type": "markdown",
   "metadata": {},
   "source": [
    "## Item 17: Be defensive when iterating over arguments\n",
    "Sometimes you need to go through the input list more than once."
   ]
  },
  {
   "cell_type": "code",
   "execution_count": 15,
   "metadata": {},
   "outputs": [
    {
     "name": "stdout",
     "output_type": "stream",
     "text": [
      "[11.538461538461538, 26.923076923076923, 61.53846153846154]\n"
     ]
    }
   ],
   "source": [
    "def normalize(numbers):\n",
    "    total = sum(numbers)\n",
    "    result = []\n",
    "    for value in numbers:\n",
    "        percent = 100 * value / total\n",
    "        result.append(percent)\n",
    "    return result\n",
    "\n",
    "visits = [15, 35, 80]\n",
    "percentages = normalize(visits)\n",
    "print(percentages)"
   ]
  },
  {
   "cell_type": "code",
   "execution_count": 29,
   "metadata": {},
   "outputs": [
    {
     "name": "stdout",
     "output_type": "stream",
     "text": [
      "[]\n",
      "[15, 35, 80]\n",
      "[]\n"
     ]
    }
   ],
   "source": [
    "def read_visits(data_list):\n",
    "    for element in data_list:\n",
    "        yield element\n",
    "\n",
    "# iterators only produce output once\n",
    "percentages = normalize(read_visits(visits))\n",
    "print(percentages)\n",
    "\n",
    "it = read_visits(visits)\n",
    "print(list(it))\n",
    "print(list(it)) # empty list, already exhausted\n",
    "# no errors will be raised when this happens \n",
    "# as it's an expected behaviour"
   ]
  },
  {
   "cell_type": "code",
   "execution_count": 26,
   "metadata": {},
   "outputs": [
    {
     "name": "stdout",
     "output_type": "stream",
     "text": [
      "[11.538461538461538, 26.923076923076923, 61.53846153846154]\n"
     ]
    }
   ],
   "source": [
    "# Approach 1: exhaust an iterator and keep a copy\n",
    "def normalize_copy(numbers):\n",
    "    numbers = list(numbers)\n",
    "    total = sum(numbers)\n",
    "    result = []\n",
    "    for value in numbers:\n",
    "        percent = 100 * value / total\n",
    "        result.append(percent)\n",
    "    return result\n",
    "\n",
    "percentages = normalize_copy(read_visits(visits))\n",
    "print(percentages)"
   ]
  },
  {
   "cell_type": "code",
   "execution_count": 30,
   "metadata": {},
   "outputs": [
    {
     "name": "stdout",
     "output_type": "stream",
     "text": [
      "[11.538461538461538, 26.923076923076923, 61.53846153846154]\n"
     ]
    }
   ],
   "source": [
    "# Approach 2: return an iterator each time, passing a lambda function\n",
    "def normalize_func(get_iter):\n",
    "    total = sum(get_iter())\n",
    "    result = []\n",
    "    for value in get_iter():\n",
    "        percent = 100 * value / total\n",
    "        result.append(percent)\n",
    "    return result\n",
    "\n",
    "percentage = normalize_func(lambda: read_visits(visits))\n",
    "print(percentage)"
   ]
  },
  {
   "cell_type": "code",
   "execution_count": 14,
   "metadata": {},
   "outputs": [
    {
     "ename": "NameError",
     "evalue": "name 'visits' is not defined",
     "output_type": "error",
     "traceback": [
      "\u001b[0;31m---------------------------------------------------------------------------\u001b[0m",
      "\u001b[0;31mNameError\u001b[0m                                 Traceback (most recent call last)",
      "\u001b[0;32m<ipython-input-14-462298b529e4>\u001b[0m in \u001b[0;36m<module>\u001b[0;34m\u001b[0m\n\u001b[1;32m     10\u001b[0m             \u001b[0;32myield\u001b[0m \u001b[0melement\u001b[0m\u001b[0;34m\u001b[0m\u001b[0;34m\u001b[0m\u001b[0m\n\u001b[1;32m     11\u001b[0m \u001b[0;34m\u001b[0m\u001b[0m\n\u001b[0;32m---> 12\u001b[0;31m \u001b[0mvisits_iterated\u001b[0m \u001b[0;34m=\u001b[0m \u001b[0mReadVisits\u001b[0m\u001b[0;34m(\u001b[0m\u001b[0mvisits\u001b[0m\u001b[0;34m)\u001b[0m\u001b[0;34m\u001b[0m\u001b[0;34m\u001b[0m\u001b[0m\n\u001b[0m\u001b[1;32m     13\u001b[0m \u001b[0mpercentages\u001b[0m \u001b[0;34m=\u001b[0m \u001b[0mnormalize\u001b[0m\u001b[0;34m(\u001b[0m\u001b[0mvisits_iterated\u001b[0m\u001b[0;34m)\u001b[0m\u001b[0;34m\u001b[0m\u001b[0;34m\u001b[0m\u001b[0m\n\u001b[1;32m     14\u001b[0m \u001b[0mprint\u001b[0m\u001b[0;34m(\u001b[0m\u001b[0mpercentages\u001b[0m\u001b[0;34m)\u001b[0m\u001b[0;34m\u001b[0m\u001b[0;34m\u001b[0m\u001b[0m\n",
      "\u001b[0;31mNameError\u001b[0m: name 'visits' is not defined"
     ]
    }
   ],
   "source": [
    "# Approach 3: provide a new container class \n",
    "# that implements the iterator protocol (__iter__)\n",
    "\n",
    "class ReadVisits(object):\n",
    "    def __init__(self, data):\n",
    "        self.data = data\n",
    "        \n",
    "    def __iter__(self):\n",
    "        for element in self.data:\n",
    "            yield element\n",
    "\n",
    "visits_iterated = ReadVisits(visits)\n",
    "percentages = normalize(visits_iterated)\n",
    "print(percentages)"
   ]
  },
  {
   "cell_type": "markdown",
   "metadata": {},
   "source": [
    "### But how?\n",
    "\n",
    "```python\n",
    "def normalize(numbers):\n",
    "    total = sum(numbers) <- calls ReadVisits.__iter__\n",
    "    result = []\n",
    "    for value in numbers: <- calls ReadVisits.__iter__\n",
    "        percent = 100 * value / total\n",
    "        result.append(percent)\n",
    "    return result\n",
    "```"
   ]
  },
  {
   "cell_type": "code",
   "execution_count": 26,
   "metadata": {
    "scrolled": true
   },
   "outputs": [
    {
     "ename": "TypeError",
     "evalue": "Must supply a container",
     "output_type": "error",
     "traceback": [
      "\u001b[0;31m---------------------------------------------------------------------------\u001b[0m",
      "\u001b[0;31mTypeError\u001b[0m                                 Traceback (most recent call last)",
      "\u001b[0;32m<ipython-input-26-2979d1912427>\u001b[0m in \u001b[0;36m<module>\u001b[0;34m\u001b[0m\n\u001b[1;32m     13\u001b[0m \u001b[0mnormalize_defensive\u001b[0m\u001b[0;34m(\u001b[0m\u001b[0mvisits\u001b[0m\u001b[0;34m)\u001b[0m\u001b[0;34m\u001b[0m\u001b[0;34m\u001b[0m\u001b[0m\n\u001b[1;32m     14\u001b[0m \u001b[0mnormalize_defensive\u001b[0m\u001b[0;34m(\u001b[0m\u001b[0mReadVisits\u001b[0m\u001b[0;34m(\u001b[0m\u001b[0mvisits\u001b[0m\u001b[0;34m)\u001b[0m\u001b[0;34m)\u001b[0m\u001b[0;34m\u001b[0m\u001b[0;34m\u001b[0m\u001b[0m\n\u001b[0;32m---> 15\u001b[0;31m \u001b[0mnormalize_defensive\u001b[0m\u001b[0;34m(\u001b[0m\u001b[0miter\u001b[0m\u001b[0;34m(\u001b[0m\u001b[0mvisits\u001b[0m\u001b[0;34m)\u001b[0m\u001b[0;34m)\u001b[0m \u001b[0;31m# raises a TypeError\u001b[0m\u001b[0;34m\u001b[0m\u001b[0;34m\u001b[0m\u001b[0m\n\u001b[0m",
      "\u001b[0;32m<ipython-input-26-2979d1912427>\u001b[0m in \u001b[0;36mnormalize_defensive\u001b[0;34m(numbers)\u001b[0m\n\u001b[1;32m      3\u001b[0m     \u001b[0;31m# produces the same results (progressing via next)\u001b[0m\u001b[0;34m\u001b[0m\u001b[0;34m\u001b[0m\u001b[0;34m\u001b[0m\u001b[0m\n\u001b[1;32m      4\u001b[0m     \u001b[0;32mif\u001b[0m \u001b[0miter\u001b[0m\u001b[0;34m(\u001b[0m\u001b[0mnumbers\u001b[0m\u001b[0;34m)\u001b[0m \u001b[0;32mis\u001b[0m \u001b[0miter\u001b[0m\u001b[0;34m(\u001b[0m\u001b[0mnumbers\u001b[0m\u001b[0;34m)\u001b[0m\u001b[0;34m:\u001b[0m \u001b[0;31m# if it's an iterator\u001b[0m\u001b[0;34m\u001b[0m\u001b[0;34m\u001b[0m\u001b[0m\n\u001b[0;32m----> 5\u001b[0;31m         \u001b[0;32mraise\u001b[0m \u001b[0mTypeError\u001b[0m\u001b[0;34m(\u001b[0m\u001b[0;34m'Must supply a container'\u001b[0m\u001b[0;34m)\u001b[0m\u001b[0;34m\u001b[0m\u001b[0;34m\u001b[0m\u001b[0m\n\u001b[0m\u001b[1;32m      6\u001b[0m     \u001b[0mtotal\u001b[0m \u001b[0;34m=\u001b[0m \u001b[0msum\u001b[0m\u001b[0;34m(\u001b[0m\u001b[0mnumbers\u001b[0m\u001b[0;34m)\u001b[0m\u001b[0;34m\u001b[0m\u001b[0;34m\u001b[0m\u001b[0m\n\u001b[1;32m      7\u001b[0m     \u001b[0mresult\u001b[0m \u001b[0;34m=\u001b[0m \u001b[0;34m[\u001b[0m\u001b[0;34m]\u001b[0m\u001b[0;34m\u001b[0m\u001b[0;34m\u001b[0m\u001b[0m\n",
      "\u001b[0;31mTypeError\u001b[0m: Must supply a container"
     ]
    }
   ],
   "source": [
    "def normalize_defensive(numbers):\n",
    "    # a value is an iterator if calling iter on it twice\n",
    "    # produces the same results (progressing via next)\n",
    "    if iter(numbers) is iter(numbers): # if it's an iterator\n",
    "        raise TypeError('Must supply a container')\n",
    "    total = sum(numbers)\n",
    "    result = []\n",
    "    for value in numbers:\n",
    "        percent = 100 * value / total\n",
    "        result.append(percent)\n",
    "    return result\n",
    "\n",
    "normalize_defensive(visits)\n",
    "normalize_defensive(ReadVisits(visits))\n",
    "normalize_defensive(iter(visits)) # raises a TypeError"
   ]
  },
  {
   "cell_type": "code",
   "execution_count": 35,
   "metadata": {},
   "outputs": [],
   "source": [
    "container_1 = ReadVisits(visits)\n",
    "assert iter(container_1) != iter(container_1)"
   ]
  },
  {
   "cell_type": "code",
   "execution_count": 36,
   "metadata": {},
   "outputs": [],
   "source": [
    "container_2 = visits\n",
    "assert iter(container_2) != iter(container_2)"
   ]
  },
  {
   "cell_type": "code",
   "execution_count": 39,
   "metadata": {},
   "outputs": [],
   "source": [
    "not_container = iter(visits)\n",
    "assert iter(not_container) == iter(not_container)"
   ]
  },
  {
   "cell_type": "markdown",
   "metadata": {},
   "source": [
    "## Item 18: Variable positional arguments\n",
    "Accepting star args (`*args`), optional positional arguments, can make a function call more clear and remove visual noise."
   ]
  },
  {
   "cell_type": "code",
   "execution_count": 37,
   "metadata": {},
   "outputs": [
    {
     "name": "stdout",
     "output_type": "stream",
     "text": [
      "My numbers are: 1, 2\n",
      "Hi there\n"
     ]
    }
   ],
   "source": [
    "def log(message, values):\n",
    "    if not values:\n",
    "        print(message)\n",
    "    else:\n",
    "        values_str = ', '.join(str(x) for x in values)\n",
    "        print('%s: %s' % (message, values_str))\n",
    "\n",
    "log('My numbers are', [1, 2])\n",
    "log('Hi there', [])"
   ]
  },
  {
   "cell_type": "markdown",
   "metadata": {},
   "source": [
    "Having to pass an empty list is cumbersome and noisy, would be better to leave out the second argument. Using the `*` prefix on `values` makes them optional.\n",
    "\n",
    "The `*values` returns a tuple of all the arguments after the required ones."
   ]
  },
  {
   "cell_type": "code",
   "execution_count": 38,
   "metadata": {},
   "outputs": [
    {
     "name": "stdout",
     "output_type": "stream",
     "text": [
      "My numbers are: 1, 2\n",
      "Hi there\n"
     ]
    }
   ],
   "source": [
    "def log(message, *values):\n",
    "    if not values:\n",
    "        print(message)\n",
    "    else:\n",
    "        values_str = ', '.join(str(x) for x in values)\n",
    "        print('%s: %s' % (message, values_str))\n",
    "\n",
    "log('My numbers are', 1, 2)\n",
    "log('Hi there')"
   ]
  },
  {
   "cell_type": "code",
   "execution_count": 39,
   "metadata": {},
   "outputs": [
    {
     "name": "stdout",
     "output_type": "stream",
     "text": [
      "Favourite numbers: 7, 9, 21\n"
     ]
    }
   ],
   "source": [
    "log('Favourite numbers', *[7, 9, 21])"
   ]
  },
  {
   "cell_type": "code",
   "execution_count": 42,
   "metadata": {},
   "outputs": [
    {
     "name": "stdout",
     "output_type": "stream",
     "text": [
      "(0, 1, 2, 3, 4, 5, 6, 7, 8, 9)\n"
     ]
    }
   ],
   "source": [
    "# Problem 1: variable arguments are always returned into a tuple\n",
    "# exhausting generators, with a tuple with all the generators\n",
    "# best to use it where you know the number of inputs \n",
    "# will be reasonably small\n",
    "def my_generator():\n",
    "    for i in range(10):\n",
    "        yield i\n",
    "\n",
    "def my_func(*args):\n",
    "    print(args)\n",
    "    \n",
    "my_func(*my_generator())"
   ]
  },
  {
   "cell_type": "code",
   "execution_count": 43,
   "metadata": {},
   "outputs": [
    {
     "name": "stdout",
     "output_type": "stream",
     "text": [
      "1: Favourites: 7, 33\n",
      "Favourites: 7: 33\n"
     ]
    }
   ],
   "source": [
    "# Problem 2: can't add new positional arguments without migrating\n",
    "def log(sequence, message, *values):\n",
    "    if not values:\n",
    "        print('%s: %s' % (sequence, message))\n",
    "    else:\n",
    "        values_str = ', '.join(str(x) for x in values)\n",
    "        print('%s: %s: %s' % (sequence, message, values_str))\n",
    "        \n",
    "log(1, 'Favourites', 7, 33) # new usage fine\n",
    "log('Favourites', 7, 33) # old usage breaks"
   ]
  },
  {
   "cell_type": "markdown",
   "metadata": {},
   "source": [
    "## Item 19: Provide optional behaviour with keyword arguments\n",
    "Python can use both positonal and keyword arguments."
   ]
  },
  {
   "cell_type": "code",
   "execution_count": 1,
   "metadata": {},
   "outputs": [],
   "source": [
    "def remainder(number, divisor):\n",
    "    return number % divisor\n",
    "\n",
    "assert remainder(20, 7) == 6"
   ]
  },
  {
   "cell_type": "markdown",
   "metadata": {},
   "source": [
    "All positional arguments can also be passed by keyword, in any order, as long as all the required positional arguments are specified."
   ]
  },
  {
   "cell_type": "code",
   "execution_count": 2,
   "metadata": {},
   "outputs": [
    {
     "data": {
      "text/plain": [
       "6"
      ]
     },
     "execution_count": 2,
     "metadata": {},
     "output_type": "execute_result"
    }
   ],
   "source": [
    "remainder(20, 7)\n",
    "remainder(20, divisor=7)\n",
    "remainder(number=20, divisor=7)\n",
    "remainder(divisor=7, number=20)"
   ]
  },
  {
   "cell_type": "markdown",
   "metadata": {},
   "source": [
    "Positional arguments need to be specified before keyword ones."
   ]
  },
  {
   "cell_type": "code",
   "execution_count": 3,
   "metadata": {},
   "outputs": [
    {
     "ename": "SyntaxError",
     "evalue": "positional argument follows keyword argument (<ipython-input-3-9265fd4030d2>, line 1)",
     "output_type": "error",
     "traceback": [
      "\u001b[0;36m  File \u001b[0;32m\"<ipython-input-3-9265fd4030d2>\"\u001b[0;36m, line \u001b[0;32m1\u001b[0m\n\u001b[0;31m    remainder(number=20, 7)\u001b[0m\n\u001b[0m                        ^\u001b[0m\n\u001b[0;31mSyntaxError\u001b[0m\u001b[0;31m:\u001b[0m positional argument follows keyword argument\n"
     ]
    }
   ],
   "source": [
    "remainder(number=20, 7)"
   ]
  },
  {
   "cell_type": "markdown",
   "metadata": {},
   "source": [
    "Each argument can only be specified once."
   ]
  },
  {
   "cell_type": "code",
   "execution_count": 4,
   "metadata": {},
   "outputs": [
    {
     "ename": "TypeError",
     "evalue": "remainder() got multiple values for argument 'number'",
     "output_type": "error",
     "traceback": [
      "\u001b[0;31m---------------------------------------------------------------------------\u001b[0m",
      "\u001b[0;31mTypeError\u001b[0m                                 Traceback (most recent call last)",
      "\u001b[0;32m<ipython-input-4-f2d03bd9e009>\u001b[0m in \u001b[0;36m<module>\u001b[0;34m\u001b[0m\n\u001b[0;32m----> 1\u001b[0;31m \u001b[0mremainder\u001b[0m\u001b[0;34m(\u001b[0m\u001b[0;36m20\u001b[0m\u001b[0;34m,\u001b[0m \u001b[0mnumber\u001b[0m\u001b[0;34m=\u001b[0m\u001b[0;36m7\u001b[0m\u001b[0;34m)\u001b[0m\u001b[0;34m\u001b[0m\u001b[0;34m\u001b[0m\u001b[0m\n\u001b[0m",
      "\u001b[0;31mTypeError\u001b[0m: remainder() got multiple values for argument 'number'"
     ]
    }
   ],
   "source": [
    "remainder(20, number=7)"
   ]
  },
  {
   "cell_type": "markdown",
   "metadata": {},
   "source": [
    "Advantages:\n",
    "- make the function call clearer\n",
    "- they can have default values specified in the function definition\n",
    "- provide a powerful way to extend funtion's parameters while remaining backwards compatible with existing callers"
   ]
  },
  {
   "cell_type": "code",
   "execution_count": 5,
   "metadata": {},
   "outputs": [
    {
     "name": "stdout",
     "output_type": "stream",
     "text": [
      "0.167 per second\n"
     ]
    }
   ],
   "source": [
    "# provide additional capabilities with default values\n",
    "def flow_rate(weight_diff, time_diff):\n",
    "    return weight_diff / time_diff\n",
    "\n",
    "weight_diff = 0.5\n",
    "time_diff = 3\n",
    "flow = flow_rate(weight_diff, time_diff)\n",
    "print('%.3f per second' % flow)"
   ]
  },
  {
   "cell_type": "code",
   "execution_count": 7,
   "metadata": {},
   "outputs": [
    {
     "name": "stdout",
     "output_type": "stream",
     "text": [
      "0.16666666666666666\n"
     ]
    }
   ],
   "source": [
    "def flow_rate(weight_diff, time_diff, period):\n",
    "    return (weight_diff / time_diff) * period\n",
    "\n",
    "flow_per_second = flow_rate(weight_diff, time_diff, 1)\n",
    "print(flow_per_second)"
   ]
  },
  {
   "cell_type": "code",
   "execution_count": 9,
   "metadata": {},
   "outputs": [
    {
     "name": "stdout",
     "output_type": "stream",
     "text": [
      "0.16666666666666666\n",
      "600.0\n"
     ]
    }
   ],
   "source": [
    "def flow_rate(weight_diff, time_diff, period=1):\n",
    "    return (weight_diff / time_diff) * period\n",
    "\n",
    "flow_per_second = flow_rate(weight_diff, time_diff)\n",
    "flow_per_hour = flow_rate(weight_diff, time_diff, period=3600)\n",
    "\n",
    "print(flow_per_second)\n",
    "print(flow_per_hour)"
   ]
  },
  {
   "cell_type": "code",
   "execution_count": 40,
   "metadata": {},
   "outputs": [
    {
     "name": "stdout",
     "output_type": "stream",
     "text": [
      "1320.0\n"
     ]
    }
   ],
   "source": [
    "# backwards compatibility\n",
    "def flow_rate(weight_diff, time_diff, period=1, units_per_kg=1):\n",
    "    return ((weight_diff * units_per_kg) / time_diff) * period\n",
    "\n",
    "pounds_per_hour = flow_rate(weight_diff, time_diff,\n",
    "                            period=3600, units_per_kg=2.2)\n",
    "\n",
    "print(pounds_per_hour)"
   ]
  },
  {
   "cell_type": "code",
   "execution_count": 41,
   "metadata": {},
   "outputs": [
    {
     "name": "stdout",
     "output_type": "stream",
     "text": [
      "1320.0\n"
     ]
    }
   ],
   "source": [
    "# optional arguments can still be specified as positional\n",
    "# which can be confusing - always pass them by keyword\n",
    "pounds_per_hour = flow_rate(weight_diff, time_diff, 3600, 2.2)\n",
    "print(pounds_per_hour)"
   ]
  }
 ],
 "metadata": {
  "kernelspec": {
   "display_name": "Python 3",
   "language": "python",
   "name": "python3"
  },
  "language_info": {
   "codemirror_mode": {
    "name": "ipython",
    "version": 3
   },
   "file_extension": ".py",
   "mimetype": "text/x-python",
   "name": "python",
   "nbconvert_exporter": "python",
   "pygments_lexer": "ipython3",
   "version": "3.7.2"
  }
 },
 "nbformat": 4,
 "nbformat_minor": 2
}
