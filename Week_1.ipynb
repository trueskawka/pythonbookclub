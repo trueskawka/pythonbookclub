{
 "cells": [
  {
   "cell_type": "markdown",
   "metadata": {},
   "source": [
    "Questions for the group:\n",
    "- how do you work with this book?\n",
    "- how useful do you find it? especially people new to Python?\n",
    "\n",
    "My general impression:\n",
    "- I think this book is useful if you're already familiar with Python, I'd find it hard to use as a learning tool if I didn't know the language\n",
    "- it lacks examples outside of simple syntax (so far)\n",
    "- it assumes knowledge on the reader's part in an uneven level (e.g. doesn't assume you know what version of Python you're running, but throws in bitwise operations in the middle of examples without explanation)\n",
    "- it reads more like a set of tips that would be useful to look up than a comprehensive understanding of topics (e.g. exception handling assumes you already know the syntax and doesn't provide a general explanation of how errors propagate in Python)"
   ]
  },
  {
   "cell_type": "markdown",
   "metadata": {},
   "source": [
    "# Pythonic thinking"
   ]
  },
  {
   "cell_type": "code",
   "execution_count": 10,
   "metadata": {},
   "outputs": [
    {
     "name": "stdout",
     "output_type": "stream",
     "text": [
      "The pycodestyle_magic extension is already loaded. To reload it, use:\n",
      "  %reload_ext pycodestyle_magic\n"
     ]
    }
   ],
   "source": [
    "# Install pycodestyle for PEP8 to work\n",
    "# add a global setting in pycodestyle config to ignore the no new line rule\n",
    "\n",
    "# pip install pycodestyle\n",
    "# pip install pycodestyle_magic\n",
    "%load_ext pycodestyle_magic"
   ]
  },
  {
   "cell_type": "markdown",
   "metadata": {},
   "source": [
    "## Item 2: PEP8\n",
    "\n",
    "Whitespace:\n",
    "- four spaces in a tab\n",
    "- four spaces for syntactic indenting\n",
    "- 79 chars lines\n",
    "- long expressions indented by four extra spaces on the next line\n",
    "- in a file, functions and classes separated by two blank lines\n",
    "- in a class, methods separated by one blank line\n",
    "- no spaces around: list indexes, function calls, keyword argument assignments\n",
    "- one space before and after variable assignments\n",
    "\n",
    "Naming:\n",
    "- `lowercase_underscore` - functions, variables, attributes\n",
    "- `_leading_underscore` - protected instance (accessible within the class and sub-classes)\n",
    "- `__double_leading_underscore` - private instance (accessible within the class)\n",
    "- `CapitalizedWord` - classes and exceptions\n",
    "- `ALL_CAPS` - module-level constants\n",
    "- `self` - instance methods in classes\n",
    "- `cls` - class methods\n",
    "\n",
    "Expressions and statements:\n",
    "- inline negation `(if a is not b)`\n",
    "- don't check empty by checking length, use `if not <item>` (empty values implicitly evaluate to `False`)\n",
    "- don't check non-empty by checking length, use `if <item>`\n",
    "- avoid single-line `if`, `for`, `while`, and `except` - multiple lines for clarity\n",
    "- put `import` at the top of the file\n",
    "- use absolute names for importing modules, e.g. `from bar import foo`\n",
    "- for relative imports use explicit syntax, e.g. `from . import foo`\n",
    "- imports: standard library modules, third-party modules, your own modules; each subsection alphabetical"
   ]
  },
  {
   "cell_type": "markdown",
   "metadata": {},
   "source": [
    "## Item 3: `bytes`, `str`, and `unicode`\n",
    "\n",
    "Python 3:\n",
    "- `bytes` - raw 8-bit values, binary serialization format represented by a sequence of 8-bit integers, good for storing data and sending it to other applications, can only use ASCII literal characters\n",
    "- `str` - Unicode characters, no binary encoding associated (represented internally as a sequence of Unicode codepoints), default type when creating a string\n",
    "\n",
    "Python 2:\n",
    "- `unicode` - Unicode characters, no binary encoding associated\n",
    "- `str` - raw 8-bit values\n",
    "\n",
    "Represent Unicode characters as binary:\n",
    "- most common encoding is `UTF-8`\n",
    "- Unicode -> binary - `encode`\n",
    "- binary -> Unicode - `decode`\n",
    "\n",
    "Encode and decode at the furthest boundary of interfaces - the core should use Unicode (`str` in Python 3 and `unicode` in Python 2), not assume a specific character encoding. Accepting of alternative text encodings, strict about output encoding (ideally `UTF-8`).\n",
    "\n",
    "Two most commmon cases:\n",
    "- operate on raw 8-bit values with `UTF-8` encoded characters (or a different encoding)\n",
    "- operate on Unicode characers that have no specific encoding\n",
    "\n",
    "It's useful to have helper methods that convert input to `bytes` and `str` (Python 3, Python 2 would need `unicode` and `str`)."
   ]
  },
  {
   "cell_type": "code",
   "execution_count": 26,
   "metadata": {},
   "outputs": [],
   "source": [
    "%%pycodestyle\n",
    "\n",
    "\n",
    "def to_str(bytes_or_str):\n",
    "    \"\"\"\n",
    "    @input - bytes or str\n",
    "    @output - str\n",
    "    \"\"\"\n",
    "    if isinstance(bytes_or_str, bytes):\n",
    "        value = bytes_or_str.decode('utf-8')\n",
    "    else:\n",
    "        value = bytes_or_str\n",
    "    return value\n",
    "\n",
    "\n",
    "def to_bytes(bytes_or_str):\n",
    "    \"\"\"\n",
    "    @input - bytes or str\n",
    "    @output - bytes\n",
    "    \"\"\"\n",
    "    if isinstance(bytes_or_str, str):\n",
    "        value = bytes_or_str.encode('utf-8')\n",
    "    else:\n",
    "        value = bytes_or_str\n",
    "    return value"
   ]
  },
  {
   "cell_type": "markdown",
   "metadata": {},
   "source": [
    "There are gotchas when dealing with raw 8-bit values and Unicode.\n",
    "\n",
    "1. In Python 2, `unicode` and `str` seem to be the same type when a `str` only contains 7-bit ASCII characters:\n",
    "    - you can combine them together using `+`\n",
    "    - you can compare them using equality and inequality operators\n",
    "    - you can use `unicode` in format strings like '%s'\n",
    "\n",
    "\n",
    "2. In Python 3, `bytes` and `str` instances are never equivalent (not even when empty), so you must be more deliberate about types. You can't combine them or compare them. They're not friends. They don't mix.\n",
    "\n",
    "\n",
    "3. Operations involving file handles (`open`) default to `UTF-8` encoding in Python 3, binary encoding in Python 2.\n",
    "    - in Python 2, `with open(file, 'w')` will work for binary data, would fail in Python 3\n",
    "    - in Python 3, you need to open in write binary mode instead `with open(file, 'wb')`\n",
    "    - same with reading - Python 2 uses `r` for binary, Python 3 requires `rb` mode"
   ]
  },
  {
   "cell_type": "code",
   "execution_count": 30,
   "metadata": {},
   "outputs": [
    {
     "name": "stdout",
     "output_type": "stream",
     "text": [
      "<class 'str'>\n",
      "<class 'bytes'>\n"
     ]
    }
   ],
   "source": [
    "print(type('Kitten!'))\n",
    "print(type(b'Kitten!'))"
   ]
  },
  {
   "cell_type": "code",
   "execution_count": 36,
   "metadata": {},
   "outputs": [
    {
     "name": "stdout",
     "output_type": "stream",
     "text": [
      "b'$%@#'\n"
     ]
    },
    {
     "data": {
      "text/plain": [
       "'$%@#'"
      ]
     },
     "execution_count": 36,
     "metadata": {},
     "output_type": "execute_result"
    }
   ],
   "source": [
    "string = '$%@#'\n",
    "\n",
    "# print bytes\n",
    "encoded = string.encode('utf-8')\n",
    "print(encoded)\n",
    "\n",
    "# print str\n",
    "encoded.decode()"
   ]
  },
  {
   "cell_type": "markdown",
   "metadata": {},
   "source": [
    "### But why?\n",
    "There is no way to determine what type of encoding byte strings are. Technically, at the lowest level, everything is made of bytes, but to be practically usable in applications we need to know the encoding. And using Unicode strings helps us preserve this information.\n",
    "\n",
    "Sources:\n",
    "- https://timothybramlett.com/Strings_Bytes_and_Unicode_in_Python_2_and_3.html\n",
    "- https://medium.com/better-programming/strings-unicode-and-bytes-in-python-3-everything-you-always-wanted-to-know-27dc02ff2686"
   ]
  },
  {
   "cell_type": "markdown",
   "metadata": {},
   "source": [
    "### The Unicode sandwich\n",
    "As mentioned before, you want `bytes` on input and output, but manipulate `str` in your application.\n",
    "\n",
    "```\n",
    "------------------\n",
    "   bytes (input)    <-- data from the outside world\n",
    "------------------\n",
    "     decode()\n",
    "------------------\n",
    "str (manipulation)  <-- access to many useful string manipulation libraries and methods\n",
    "------------------\n",
    "     encode()\n",
    "------------------\n",
    "  bytes (output)    <-- send it back to the outside world\n",
    "------------------\n",
    "```\n",
    "\n",
    "Fun talk about Unicode: https://nedbatchelder.com/text/unipain.html"
   ]
  },
  {
   "cell_type": "markdown",
   "metadata": {},
   "source": [
    "## Item 4: Helper functions\n",
    "Python is pretty expressive, which may encourage you to write single-line expressions with a lot of logic. But readability outweights brevity."
   ]
  },
  {
   "cell_type": "code",
   "execution_count": 52,
   "metadata": {},
   "outputs": [],
   "source": [
    "from urllib.parse import parse_qs"
   ]
  },
  {
   "cell_type": "code",
   "execution_count": 76,
   "metadata": {},
   "outputs": [
    {
     "name": "stdout",
     "output_type": "stream",
     "text": [
      "{'red': ['5'], 'blue': ['0'], 'green': ['']}\n",
      "\n",
      "Red:      ['5']\n",
      "Green:    ['']\n",
      "Opacity:  None\n",
      "\n",
      "Red:     '5'\n",
      "Green:   0\n",
      "Opacity: 0\n",
      "\n",
      "Red:     5\n",
      "Green:   0\n",
      "Opacity: 0\n",
      "\n",
      "Red:     5\n",
      "Green:   0\n",
      "Opacity: 0\n"
     ]
    }
   ],
   "source": [
    "my_values = parse_qs('red=5&blue=0&green=', keep_blank_values=True)\n",
    "print(repr(my_values))\n",
    "\n",
    "print('\\nRed:     ', my_values.get('red')) \n",
    "print('Green:   ', my_values.get('green'))\n",
    "print('Opacity: ', my_values.get('opacity'))\n",
    "\n",
    "red = my_values.get('red', [''])[0] or 0\n",
    "green = my_values.get('green', [''])[0] or 0\n",
    "opacity = my_values.get('opacity', [''])[0] or 0\n",
    "\n",
    "print('\\nRed:     %r' % red) \n",
    "print('Green:   %r' % green)\n",
    "print('Opacity: %r' % opacity)\n",
    "\n",
    "red = int(my_values.get('red', [''])[0] or 0)\n",
    "green = int(my_values.get('green', [''])[0] or 0)\n",
    "opacity = int(my_values.get('opacity', [''])[0] or 0)\n",
    "\n",
    "print('\\nRed:     %r' % red) \n",
    "print('Green:   %r' % green)\n",
    "print('Opacity: %r' % opacity)\n",
    "\n",
    "# ternary operator is a bit clearer, but not too much of an improvement\n",
    "red = my_values.get('red', ['']) \n",
    "red = int(red[0]) if red[0] else 0\n",
    "green = my_values.get('green', ['']) \n",
    "green = int(green[0]) if green[0] else 0\n",
    "opacity = my_values.get('opacity', [''])\n",
    "opacity = int(opacity[0]) if opacity[0] else 0\n",
    "\n",
    "print('\\nRed:     %r' % red) \n",
    "print('Green:   %r' % green)\n",
    "print('Opacity: %r' % opacity)"
   ]
  },
  {
   "cell_type": "code",
   "execution_count": 72,
   "metadata": {},
   "outputs": [
    {
     "data": {
      "text/plain": [
       "0"
      ]
     },
     "execution_count": 72,
     "metadata": {},
     "output_type": "execute_result"
    }
   ],
   "source": [
    "def get_first_int(values, key, default=0):\n",
    "    found = values.get(key, [''])\n",
    "    if found[0]:\n",
    "        found = int(found[0])\n",
    "    else:\n",
    "        found = default\n",
    "    return found\n",
    "\n",
    "\n",
    "get_first_int(my_values, 'green')"
   ]
  },
  {
   "cell_type": "markdown",
   "metadata": {},
   "source": [
    "## Item 5: Slicing sequences\n",
    "Slicing gets a subset of a sequence with minimal effort, built-in for `list`, `str`, and `bytes`. Can be extended to any Python class with `__getitem__` and `__setitem__`.\n",
    "\n",
    "Basic syntax: `somelist[start:end]` (start inclusive, end exclusive)"
   ]
  },
  {
   "cell_type": "code",
   "execution_count": 125,
   "metadata": {},
   "outputs": [
    {
     "name": "stdout",
     "output_type": "stream",
     "text": [
      "First four                   ['a', 'b', 'c', 'd']\n",
      "Last four                                        ['e', 'f', 'g', 'h']\n",
      "Middle two                                  ['d', 'e']\n",
      "All                          ['a', 'b', 'c', 'd', 'e', 'f', 'g', 'h']\n",
      "First five                   ['a', 'b', 'c', 'd', 'e']\n",
      "All but last                 ['a', 'b', 'c', 'd', 'e', 'f', 'g']\n",
      "Everything after first four                      ['e', 'f', 'g', 'h']\n",
      "Last three                                            ['f', 'g', 'h']\n",
      "Third to fifth                         ['c', 'd', 'e']\n",
      "Third to second last                   ['c', 'd', 'e', 'f', 'g']\n",
      "Third last to second last                             ['f', 'g']\n",
      "First twenty items           ['a', 'b', 'c', 'd', 'e', 'f', 'g', 'h']\n",
      "Last twenty items            ['a', 'b', 'c', 'd', 'e', 'f', 'g', 'h']\n"
     ]
    },
    {
     "data": {
      "text/plain": [
       "['a', 'b', 'c', 'd', 'e', 'f', 'g', 'h']"
      ]
     },
     "execution_count": 125,
     "metadata": {},
     "output_type": "execute_result"
    }
   ],
   "source": [
    "letters = ['a', 'b', 'c', 'd', 'e', 'f', 'g', 'h']\n",
    "\n",
    "print('First four                  ', letters[:4])\n",
    "print('Last four                                       ', letters[-4:])\n",
    "print('Middle two                                 ', letters[3:-3])\n",
    "\n",
    "# Would throw AssertionError if not correct\n",
    "assert letters[:5] == letters[0:5]\n",
    "assert letters[5:] == letters[5:len(letters)]\n",
    "\n",
    "print(\"All                         \", letters[:])\n",
    "print(\"First five                  \", letters[:5])\n",
    "print(\"All but last                \", letters[:-1])\n",
    "print(\"Everything after first four                     \", letters[4:])\n",
    "print(\"Last three                                           \", letters[-3:])\n",
    "print(\"Third to fifth                        \", letters[2:5])\n",
    "print(\"Third to second last                  \", letters[2:-1])\n",
    "print(\"Third last to second last                            \",letters[-3:-1])\n",
    "\n",
    "# calling letters[20] directly causes an IndexError\n",
    "# but slicing out of bonds is fine\n",
    "print(\"First twenty items          \", letters[:20])\n",
    "print(\"Last twenty items           \", letters[-20:])\n",
    "\n",
    "# copy of the original list\n",
    "letters[-0:]"
   ]
  },
  {
   "cell_type": "markdown",
   "metadata": {},
   "source": [
    "Slicing a list creates a new list. References to objects from the original list are maintained, but a change in the result of slicing won't affect the original list."
   ]
  },
  {
   "cell_type": "code",
   "execution_count": 115,
   "metadata": {
    "scrolled": true
   },
   "outputs": [
    {
     "name": "stdout",
     "output_type": "stream",
     "text": [
      "Before:                          ['e', 'f', 'g', 'h']\n",
      "After:                           ['e', 'kitten', 'g', 'h']\n",
      "No change:   ['a', 'b', 'c', 'd', 'e', 'f', 'g', 'h']\n"
     ]
    }
   ],
   "source": [
    "letters_two = letters[4:]\n",
    "print(\"Before:                         \", letters_two)\n",
    "letters_two[1] = 'kitten'\n",
    "print(\"After:                          \", letters_two)\n",
    "print(\"No change:  \", letters)"
   ]
  },
  {
   "cell_type": "markdown",
   "metadata": {},
   "source": [
    "When using assignemts, slices will replace the specified range. They don't need to be the same size (unlike tuple assignments `a, b = c[:2]`). Values before and after the slice will be preserved and the list will grow or shrink."
   ]
  },
  {
   "cell_type": "code",
   "execution_count": 119,
   "metadata": {},
   "outputs": [
    {
     "name": "stdout",
     "output_type": "stream",
     "text": [
      "Before  ['a', 'b', 'c', 'd', 'e', 'f', 'g', 'h']\n",
      "After   ['a', 'b', 'tiny', 'lil', 'kitten', 'h']\n"
     ]
    }
   ],
   "source": [
    "print(\"Before \", letters)\n",
    "letters[2:7] = ['tiny', 'lil', 'kitten']\n",
    "print(\"After  \", letters)"
   ]
  },
  {
   "cell_type": "markdown",
   "metadata": {},
   "source": [
    "Leaving both start and end empty will make a copy of the original list."
   ]
  },
  {
   "cell_type": "code",
   "execution_count": 123,
   "metadata": {},
   "outputs": [],
   "source": [
    "a = [1, 2]\n",
    "b = a[:]\n",
    "\n",
    "assert b == a and b is not a"
   ]
  },
  {
   "cell_type": "markdown",
   "metadata": {},
   "source": [
    "Assigning a slice with no start or end will replace the entire contents with a copy of what's referenced (instead of a new list)"
   ]
  },
  {
   "cell_type": "code",
   "execution_count": 124,
   "metadata": {},
   "outputs": [
    {
     "name": "stdout",
     "output_type": "stream",
     "text": [
      "Before a  [1, 2]\n",
      "Before b  [1, 2]\n",
      "After a   ['tiny', 'lil', 'kitten']\n",
      "After b   ['tiny', 'lil', 'kitten']\n"
     ]
    }
   ],
   "source": [
    "b = a\n",
    "print(\"Before a \", a)\n",
    "print(\"Before b \", b)\n",
    "a[:] = ['tiny', 'lil', 'kitten']\n",
    "assert a is b\n",
    "print(\"After a  \", a)\n",
    "print(\"After b  \", b)"
   ]
  },
  {
   "cell_type": "markdown",
   "metadata": {},
   "source": [
    "## Item 6: Avoid using `start`, `end`, and `stride` in a single slice\n",
    "Pyton has special syntax for the stride of a slice `somelist[start:end:slice]`. It let's you take every n-th ite when slicing a sequence."
   ]
  },
  {
   "cell_type": "code",
   "execution_count": 2,
   "metadata": {},
   "outputs": [
    {
     "name": "stdout",
     "output_type": "stream",
     "text": [
      "['red', 'yellow', 'blue']\n",
      "['orange', 'green', 'purple']\n"
     ]
    }
   ],
   "source": [
    "a = ['red', 'orange', 'yellow', 'green', 'blue', 'purple']\n",
    "odds = a[::2]\n",
    "evens = a[1::2]\n",
    "print(odds)\n",
    "print(evens)"
   ]
  },
  {
   "cell_type": "markdown",
   "metadata": {},
   "source": [
    "That can cause some unexpected behaviour, e.g. to reverse a byte string is to slice it with the slice of `-1`."
   ]
  },
  {
   "cell_type": "code",
   "execution_count": 3,
   "metadata": {},
   "outputs": [
    {
     "name": "stdout",
     "output_type": "stream",
     "text": [
      "b'nettik'\n"
     ]
    }
   ],
   "source": [
    "x = b'kitten'\n",
    "y = x[::-1]\n",
    "print(y)"
   ]
  },
  {
   "cell_type": "markdown",
   "metadata": {},
   "source": [
    "It works well for bytestrings and ASCII, but will break Unicode `UTF-8` strings."
   ]
  },
  {
   "cell_type": "code",
   "execution_count": 5,
   "metadata": {},
   "outputs": [
    {
     "ename": "UnicodeDecodeError",
     "evalue": "'utf-8' codec can't decode byte 0x99 in position 0: invalid start byte",
     "output_type": "error",
     "traceback": [
      "\u001b[0;31m---------------------------------------------------------------------------\u001b[0m",
      "\u001b[0;31mUnicodeDecodeError\u001b[0m                        Traceback (most recent call last)",
      "\u001b[0;32m<ipython-input-5-e691b15f39e0>\u001b[0m in \u001b[0;36m<module>\u001b[0;34m()\u001b[0m\n\u001b[1;32m      2\u001b[0m \u001b[0mx\u001b[0m \u001b[0;34m=\u001b[0m \u001b[0mw\u001b[0m\u001b[0;34m.\u001b[0m\u001b[0mencode\u001b[0m\u001b[0;34m(\u001b[0m\u001b[0;34m'utf-8'\u001b[0m\u001b[0;34m)\u001b[0m\u001b[0;34m\u001b[0m\u001b[0m\n\u001b[1;32m      3\u001b[0m \u001b[0my\u001b[0m \u001b[0;34m=\u001b[0m \u001b[0mx\u001b[0m\u001b[0;34m[\u001b[0m\u001b[0;34m:\u001b[0m\u001b[0;34m:\u001b[0m\u001b[0;34m-\u001b[0m\u001b[0;36m1\u001b[0m\u001b[0;34m]\u001b[0m\u001b[0;34m\u001b[0m\u001b[0m\n\u001b[0;32m----> 4\u001b[0;31m \u001b[0mz\u001b[0m \u001b[0;34m=\u001b[0m \u001b[0my\u001b[0m\u001b[0;34m.\u001b[0m\u001b[0mdecode\u001b[0m\u001b[0;34m(\u001b[0m\u001b[0;34m'utf-8'\u001b[0m\u001b[0;34m)\u001b[0m\u001b[0;34m\u001b[0m\u001b[0m\n\u001b[0m",
      "\u001b[0;31mUnicodeDecodeError\u001b[0m: 'utf-8' codec can't decode byte 0x99 in position 0: invalid start byte"
     ]
    }
   ],
   "source": [
    "w = 'ąę'\n",
    "x = w.encode('utf-8')\n",
    "y = x[::-1]\n",
    "z = y.decode('utf-8')"
   ]
  },
  {
   "cell_type": "code",
   "execution_count": 11,
   "metadata": {},
   "outputs": [
    {
     "name": "stdout",
     "output_type": "stream",
     "text": [
      "Get every second item from start:  ['a', 'c', 'e', 'g']\n",
      "Get every second item from end (going backwards):  ['h', 'f', 'd', 'b']\n",
      "Get every second item starting starting at third item:  ['c', 'e', 'g']\n",
      "Get every second item from second last (going backwards):  ['g', 'e', 'c', 'a']\n",
      "Get every second item from second last (going backwards), and end at second step ['g', 'e']\n",
      "Get every second item from an empty set (going backwa) []\n"
     ]
    }
   ],
   "source": [
    "# It's not always obvious when stride, start, and end come to play\n",
    "letters = ['a', 'b', 'c', 'd', 'e', 'f', 'g', 'h']\n",
    "print('Get every second item from start: ', letters[::2])\n",
    "print('Get every second item from end (going backwards): ', letters[::-2])\n",
    "print('Get every second item starting starting at third item: ', letters[2::2])\n",
    "print('Get every second item from second last (going backwards): ', letters[-2::-2])\n",
    "print('Get every second item from second last (going backwards), and end at second step', letters[-2:2:-2])\n",
    "print('Get every second item from an empty set (going backwa)', letters[2:2:-2])"
   ]
  },
  {
   "cell_type": "code",
   "execution_count": 13,
   "metadata": {},
   "outputs": [
    {
     "name": "stdout",
     "output_type": "stream",
     "text": [
      "['a', 'c', 'e', 'g']\n",
      "['c', 'e']\n"
     ]
    }
   ],
   "source": [
    "# Consider using one assignment for stride and another to slice\n",
    "# this will create an extra shallow copy, might be better to use itertools\n",
    "print(letters[::2])\n",
    "print(letters[::2][1:-1])"
   ]
  },
  {
   "cell_type": "markdown",
   "metadata": {},
   "source": [
    "Prefer:\n",
    "- using positive `stride` in slices without `start` or `end`\n",
    "- avoiding negative `stride`\n",
    "- avoiding `start`, `end` and `stride` in a single slice - prefer two steps or `islice` from `itertools`"
   ]
  },
  {
   "cell_type": "markdown",
   "metadata": {},
   "source": [
    "## Item 7: List comprehensions"
   ]
  },
  {
   "cell_type": "code",
   "execution_count": 14,
   "metadata": {},
   "outputs": [
    {
     "name": "stdout",
     "output_type": "stream",
     "text": [
      "[1, 4, 9, 16, 25, 36, 49, 64, 81, 100]\n"
     ]
    }
   ],
   "source": [
    "numbers = [1, 2, 3, 4, 5, 6, 7, 8, 9, 10]\n",
    "squares = [num**2 for num in numbers]\n",
    "\n",
    "print(squares)"
   ]
  },
  {
   "cell_type": "markdown",
   "metadata": {},
   "source": [
    "List comprehensions have a simpler syntax than maps, that doesn't require creating a lambda function."
   ]
  },
  {
   "cell_type": "code",
   "execution_count": 18,
   "metadata": {},
   "outputs": [
    {
     "name": "stdout",
     "output_type": "stream",
     "text": [
      "[1, 4, 9, 16, 25, 36, 49, 64, 81, 100]\n"
     ]
    }
   ],
   "source": [
    "squares =  map(lambda x: x**2, numbers)\n",
    "print(list(squares))"
   ]
  },
  {
   "cell_type": "markdown",
   "metadata": {},
   "source": [
    "List comprehension allow for easily filtering items from the input list."
   ]
  },
  {
   "cell_type": "code",
   "execution_count": 19,
   "metadata": {},
   "outputs": [
    {
     "name": "stdout",
     "output_type": "stream",
     "text": [
      "[4, 16, 36, 64, 100]\n"
     ]
    }
   ],
   "source": [
    "even_squares = [num**2 for num in numbers if num % 2 == 0]\n",
    "print(even_squares)"
   ]
  },
  {
   "cell_type": "markdown",
   "metadata": {},
   "source": [
    "Maps can use a `filter` function for the same effect."
   ]
  },
  {
   "cell_type": "code",
   "execution_count": 20,
   "metadata": {},
   "outputs": [
    {
     "name": "stdout",
     "output_type": "stream",
     "text": [
      "[4, 16, 36, 64, 100]\n"
     ]
    }
   ],
   "source": [
    "even_squares = map(lambda x: x**2, filter(lambda x: x % 2 == 0, numbers))\n",
    "print(list(even_squares))"
   ]
  },
  {
   "cell_type": "code",
   "execution_count": 21,
   "metadata": {},
   "outputs": [
    {
     "name": "stdout",
     "output_type": "stream",
     "text": [
      "{1: 'ghost', 2: 'habanero', 3: 'cayenne'}\n"
     ]
    }
   ],
   "source": [
    "# Dictionary comprehension\n",
    "chile_ranks = {'ghost': 1, 'habanero': 2, 'cayenne': 3}\n",
    "rank_dict = {rank: name for name, rank in chile_ranks.items()}\n",
    "print(rank_dict)"
   ]
  },
  {
   "cell_type": "code",
   "execution_count": 22,
   "metadata": {},
   "outputs": [
    {
     "name": "stdout",
     "output_type": "stream",
     "text": [
      "{8, 5, 7}\n"
     ]
    }
   ],
   "source": [
    "# Set comprehension\n",
    "chile_len_set = {len(name) for name in rank_dict.values()}\n",
    "print(chile_len_set)"
   ]
  },
  {
   "cell_type": "markdown",
   "metadata": {},
   "source": [
    "## Avoid more than two expressions in list comprehensions\n",
    "List comprehensions avoid multiple levels of looping."
   ]
  },
  {
   "cell_type": "code",
   "execution_count": 24,
   "metadata": {},
   "outputs": [
    {
     "name": "stdout",
     "output_type": "stream",
     "text": [
      "[1, 2, 3, 4, 5, 6, 7, 8, 9]\n"
     ]
    }
   ],
   "source": [
    "matrix = [[1, 2, 3], [4, 5, 6], [7, 8, 9]]\n",
    "flat = [x for row in matrix for x in row]\n",
    "print(flat)"
   ]
  },
  {
   "cell_type": "code",
   "execution_count": 26,
   "metadata": {},
   "outputs": [
    {
     "name": "stdout",
     "output_type": "stream",
     "text": [
      "[[1, 4, 9], [16, 25, 36], [49, 64, 81]]\n"
     ]
    }
   ],
   "source": [
    "squared = [[x**2 for x in row] for row in matrix]\n",
    "print(squared)"
   ]
  },
  {
   "cell_type": "markdown",
   "metadata": {},
   "source": [
    "Including another loop might get noisy."
   ]
  },
  {
   "cell_type": "code",
   "execution_count": 31,
   "metadata": {},
   "outputs": [
    {
     "name": "stdout",
     "output_type": "stream",
     "text": [
      "[1, 2, 3, 4, 5, 6, 7, 8, 9, 10, 11, 12]\n"
     ]
    }
   ],
   "source": [
    "lists = [[[1, 2, 3], [4, 5, 6]], [[7, 8, 9], [10, 11, 12]]]\n",
    "flat = [x for level_1 in lists\n",
    "       for level_2 in level_1\n",
    "       for x in level_2]\n",
    "print(flat)"
   ]
  },
  {
   "cell_type": "code",
   "execution_count": 32,
   "metadata": {},
   "outputs": [
    {
     "name": "stdout",
     "output_type": "stream",
     "text": [
      "[1, 2, 3, 4, 5, 6, 7, 8, 9, 10, 11, 12]\n"
     ]
    }
   ],
   "source": [
    "flat_2 = []\n",
    "for level_1 in lists:\n",
    "    for level_2 in level_1:\n",
    "        flat_2.extend(level_2)\n",
    "print(flat_2)"
   ]
  },
  {
   "cell_type": "code",
   "execution_count": 34,
   "metadata": {},
   "outputs": [
    {
     "data": {
      "text/plain": [
       "True"
      ]
     },
     "execution_count": 34,
     "metadata": {},
     "output_type": "execute_result"
    }
   ],
   "source": [
    "# multiple if conditions\n",
    "# two conditions at the same loop level are an implicit `and`\n",
    "first = [x for x in numbers if x > 4 if x % 2 == 0]\n",
    "second = [x for x in numbers if x > 4 and x % 2 == 0]\n",
    "first == second"
   ]
  },
  {
   "cell_type": "code",
   "execution_count": 37,
   "metadata": {},
   "outputs": [
    {
     "name": "stdout",
     "output_type": "stream",
     "text": [
      "[[6], [9]]\n"
     ]
    }
   ],
   "source": [
    "# avoid expressions like this as they're difficult to comprehend\n",
    "filtered = [[x for x in row if x % 3 == 0] \n",
    "            for row in matrix if sum(row) >= 10]\n",
    "print(filtered)"
   ]
  },
  {
   "cell_type": "markdown",
   "metadata": {},
   "source": [
    "## Item 9: Generator expressions for large comprehensions\n",
    "Using list comprehensions is good for small sets, but with large amounts of data can hoard memory, as the full input list needs to be held in memory."
   ]
  },
  {
   "cell_type": "code",
   "execution_count": 41,
   "metadata": {},
   "outputs": [
    {
     "name": "stdout",
     "output_type": "stream",
     "text": [
      "[101, 23, 75]\n"
     ]
    }
   ],
   "source": [
    "my_file = open(\"my_file.txt\",\"w+\")\n",
    "my_file.write('a' * 100 + '\\n')\n",
    "my_file.write('b' * 22 + '\\n')\n",
    "my_file.write('c' * 74 + '\\n')\n",
    "value = [len(x) for x in open(\"my_file.txt\")]\n",
    "print(value)"
   ]
  },
  {
   "cell_type": "markdown",
   "metadata": {},
   "source": [
    "Pyton provides generator expressions, a generalization of list comprehensions and generators (generators are a simple way of creating iterators). They don't materalize the whole sequence, instead they evaluate to an iterator that yields one iterm at a time from the expression.\n",
    "\n",
    "Generator expressions are like building generators on the fly."
   ]
  },
  {
   "cell_type": "code",
   "execution_count": 45,
   "metadata": {
    "scrolled": true
   },
   "outputs": [
    {
     "name": "stdout",
     "output_type": "stream",
     "text": [
      "<generator object <genexpr> at 0x1096fad00>\n",
      "101\n",
      "23\n",
      "75\n"
     ]
    },
    {
     "ename": "StopIteration",
     "evalue": "",
     "output_type": "error",
     "traceback": [
      "\u001b[0;31m---------------------------------------------------------------------------\u001b[0m",
      "\u001b[0;31mStopIteration\u001b[0m                             Traceback (most recent call last)",
      "\u001b[0;32m<ipython-input-45-d82e656f2ae1>\u001b[0m in \u001b[0;36m<module>\u001b[0;34m()\u001b[0m\n\u001b[1;32m      4\u001b[0m \u001b[0mprint\u001b[0m\u001b[0;34m(\u001b[0m\u001b[0mnext\u001b[0m\u001b[0;34m(\u001b[0m\u001b[0mit\u001b[0m\u001b[0;34m)\u001b[0m\u001b[0;34m)\u001b[0m\u001b[0;34m\u001b[0m\u001b[0m\n\u001b[1;32m      5\u001b[0m \u001b[0mprint\u001b[0m\u001b[0;34m(\u001b[0m\u001b[0mnext\u001b[0m\u001b[0;34m(\u001b[0m\u001b[0mit\u001b[0m\u001b[0;34m)\u001b[0m\u001b[0;34m)\u001b[0m\u001b[0;34m\u001b[0m\u001b[0m\n\u001b[0;32m----> 6\u001b[0;31m \u001b[0mprint\u001b[0m\u001b[0;34m(\u001b[0m\u001b[0mnext\u001b[0m\u001b[0;34m(\u001b[0m\u001b[0mit\u001b[0m\u001b[0;34m)\u001b[0m\u001b[0;34m)\u001b[0m\u001b[0;34m\u001b[0m\u001b[0m\n\u001b[0m",
      "\u001b[0;31mStopIteration\u001b[0m: "
     ]
    }
   ],
   "source": [
    "it = (len(x) for x in open(\"my_file.txt\"))\n",
    "print(it)\n",
    "print(next(it))\n",
    "print(next(it))\n",
    "print(next(it))\n",
    "print(next(it))"
   ]
  },
  {
   "cell_type": "code",
   "execution_count": 47,
   "metadata": {},
   "outputs": [
    {
     "name": "stdout",
     "output_type": "stream",
     "text": [
      "(101, 10.04987562112089)\n",
      "(23, 4.795831523312719)\n"
     ]
    }
   ],
   "source": [
    "it_2 = (len(x) for x in open(\"my_file.txt\"))\n",
    "roots = ((x, x**0.5) for x in it_2)\n",
    "\n",
    "print(next(roots))\n",
    "print(next(roots))"
   ]
  },
  {
   "cell_type": "markdown",
   "metadata": {},
   "source": [
    "Chaining generators is fast and can be used for composing functionality on a large stream of input. However, they're stateful, so you must be careful to use them only once."
   ]
  },
  {
   "cell_type": "markdown",
   "metadata": {},
   "source": [
    "## Item 10: Prefer enumerate over range\n",
    "Range is useful for loops iterating over a set of integers."
   ]
  },
  {
   "cell_type": "code",
   "execution_count": 88,
   "metadata": {},
   "outputs": [
    {
     "name": "stdout",
     "output_type": "stream",
     "text": [
      "4015867568697019049\n"
     ]
    }
   ],
   "source": [
    "from random import randint\n",
    "random_bits = 0\n",
    "for i in range(64):\n",
    "    if randint(0, 1):\n",
    "        # do a bitwise OR\n",
    "        # left shift by i\n",
    "        random_bits |= 1 << i\n",
    "print(random_bits)"
   ]
  },
  {
   "cell_type": "code",
   "execution_count": 90,
   "metadata": {},
   "outputs": [
    {
     "name": "stdout",
     "output_type": "stream",
     "text": [
      "strawberry is delicious\n",
      "mango is delicious\n",
      "raspberry is delicious\n",
      "chocolate is delicious\n"
     ]
    }
   ],
   "source": [
    "# you can loop directly over a sequence\n",
    "flavour_list = ['strawberry', 'mango', 'raspberry', 'chocolate']\n",
    "for flavour in flavour_list:\n",
    "    print ('%s is delicious' % flavour)"
   ]
  },
  {
   "cell_type": "code",
   "execution_count": 91,
   "metadata": {},
   "outputs": [
    {
     "name": "stdout",
     "output_type": "stream",
     "text": [
      "1: strawberry\n",
      "2: mango\n",
      "3: raspberry\n",
      "4: chocolate\n"
     ]
    }
   ],
   "source": [
    "# sometimes you want to know the index of an item\n",
    "for i in range(len(flavour_list)):\n",
    "    flavour = flavour_list[i]\n",
    "    print('%d: %s' % (i + 1, flavour))"
   ]
  },
  {
   "cell_type": "code",
   "execution_count": 92,
   "metadata": {},
   "outputs": [
    {
     "name": "stdout",
     "output_type": "stream",
     "text": [
      "1: strawberry\n",
      "2: mango\n",
      "3: raspberry\n",
      "4: chocolate\n"
     ]
    }
   ],
   "source": [
    "# enumerate is better (wraps an iterator with a lazy generator)\n",
    "for i, flavour in enumerate(flavour_list):\n",
    "    print('%d: %s' % (i + 1, flavour))"
   ]
  },
  {
   "cell_type": "code",
   "execution_count": 93,
   "metadata": {},
   "outputs": [
    {
     "name": "stdout",
     "output_type": "stream",
     "text": [
      "1: strawberry\n",
      "2: mango\n",
      "3: raspberry\n",
      "4: chocolate\n"
     ]
    }
   ],
   "source": [
    "# can specify the initial index\n",
    "for i, flavour in enumerate(flavour_list, 1):\n",
    "    print('%d: %s' % (i, flavour))"
   ]
  },
  {
   "cell_type": "markdown",
   "metadata": {},
   "source": [
    "### Bitwise operations\n",
    "\n",
    "#### `&` - AND\n",
    "```\n",
    "      1010\n",
    "    & 1000\n",
    "    ------\n",
    "      1000\n",
    "```\n",
    "\n",
    "    Can be used to:\n",
    "    - quickly test divisibility by 2, e.g. `6 & 1 -> 0`\n",
    "\n",
    "\n",
    "#### `|` - OR\n",
    "```\n",
    "      1010\n",
    "    | 1000\n",
    "    ------\n",
    "      1010\n",
    "```\n",
    "\n",
    "#### `^` - XOR\n",
    "```\n",
    "      1010\n",
    "    ^ 1000\n",
    "    ------\n",
    "      0010\n",
    "```\n",
    "\n",
    "#### `~` - NOT (compliment) (TBD)\n",
    "```\n",
    "\n",
    "```\n",
    "\n",
    "    Can be used to:\n",
    "    - invert a gray scale image\n",
    "    - by default Python is using signed values\n",
    "\n",
    "\n",
    "#### `<<` - left shift (pad zeros to the right)\n",
    "```\n",
    "     1010 << 1\n",
    "    ----------\n",
    "    10100\n",
    "```\n",
    "\n",
    "    It's like multiplying a number by 2.\n",
    "\n",
    "    In other languages, this could discard the overflow values (effectively creating a mask over the value), in Python a mask needs to be applied with &, e.g. `& 15` will leave only the last 4 bits.\n",
    "\n",
    "\n",
    "#### `>>` - right shift (cut on the right, pad zeros to the left)\n",
    "```\n",
    "    1010 >> 1\n",
    "    ---------\n",
    "    0101\n",
    "```\n",
    "\n",
    "    It's like dividing a number by 2."
   ]
  },
  {
   "cell_type": "code",
   "execution_count": 78,
   "metadata": {
    "scrolled": true
   },
   "outputs": [
    {
     "name": "stdout",
     "output_type": "stream",
     "text": [
      "a  10 \n",
      "b  8\n",
      "AND  0b1000 8\n",
      "OR  0b1010 10\n",
      "XOR  0b10 2\n",
      "NOT a  -0b1011 -11\n",
      "LEFT a  0b10100 20\n",
      "RIGHT a  0b101 5\n"
     ]
    }
   ],
   "source": [
    "a = 0b1010\n",
    "b = 0b1000\n",
    "\n",
    "print('a ', a, '\\nb ', b)\n",
    "print('AND ', bin(a & b), a & b)\n",
    "print('OR ', bin(a | b), a | b)\n",
    "print('XOR ', bin(a ^ b), a ^ b)\n",
    "print('NOT a ', bin(~a), ~a)\n",
    "print('LEFT a ', bin(a << 1), a << 1)\n",
    "print('RIGHT a ', bin(a >> 1), a >> 1)"
   ]
  },
  {
   "cell_type": "markdown",
   "metadata": {},
   "source": [
    "## Item 11: Use zip for parallel iterators"
   ]
  },
  {
   "cell_type": "code",
   "execution_count": 105,
   "metadata": {},
   "outputs": [
    {
     "name": "stdout",
     "output_type": "stream",
     "text": [
      "[6, 4, 5]\n"
     ]
    }
   ],
   "source": [
    "animals = ['kitten', 'bird', 'puppy']\n",
    "letters = [len(n) for n in animals]\n",
    "print(letters)"
   ]
  },
  {
   "cell_type": "code",
   "execution_count": 98,
   "metadata": {},
   "outputs": [
    {
     "name": "stdout",
     "output_type": "stream",
     "text": [
      "kitten\n"
     ]
    }
   ],
   "source": [
    "longest_animal = None\n",
    "max_letters = 0\n",
    "\n",
    "for i in range(len(animals)):\n",
    "    count = letters[i]\n",
    "    if count > max_letters:\n",
    "        longest_animal = animals[i]\n",
    "        max_letters = count\n",
    "\n",
    "print(longest_animal)"
   ]
  },
  {
   "cell_type": "code",
   "execution_count": 99,
   "metadata": {},
   "outputs": [
    {
     "name": "stdout",
     "output_type": "stream",
     "text": [
      "kitten\n"
     ]
    }
   ],
   "source": [
    "for i, animal in enumerate(animals):\n",
    "    count = letters[i]\n",
    "    if count > max_letters:\n",
    "        longest_animal = animal\n",
    "        max_letters = count\n",
    "\n",
    "print(longest_animal)"
   ]
  },
  {
   "cell_type": "code",
   "execution_count": 100,
   "metadata": {},
   "outputs": [],
   "source": [
    "# zip wraps two or more iterators with a lazy generator\n",
    "for animal, length in zip(animals, letters):\n",
    "    if count > max_letters:\n",
    "        longest_animal = animal\n",
    "        max_letters = count"
   ]
  },
  {
   "cell_type": "markdown",
   "metadata": {},
   "source": [
    "Two potential issues:\n",
    "- Python 2 doesn't use a generator, it will fully exhaust the iterators and return a list of all the tuples\n",
    "- if the input iterators are different lenghts, `zip` keeps yielding tuples until a wrapped iterator is exhausted (meaning the shorter list)"
   ]
  },
  {
   "cell_type": "code",
   "execution_count": 106,
   "metadata": {},
   "outputs": [
    {
     "name": "stdout",
     "output_type": "stream",
     "text": [
      "kitten\n",
      "bird\n",
      "puppy\n"
     ]
    }
   ],
   "source": [
    "animals.append('giraffe')\n",
    "for animal, count in zip(animals, letters):\n",
    "    print(animal)"
   ]
  },
  {
   "cell_type": "code",
   "execution_count": 108,
   "metadata": {},
   "outputs": [
    {
     "name": "stdout",
     "output_type": "stream",
     "text": [
      "kitten 6\n",
      "bird 4\n",
      "puppy 5\n",
      "giraffe None\n"
     ]
    }
   ],
   "source": [
    "# to exhaust the longer list\n",
    "from itertools import zip_longest\n",
    "\n",
    "for animal, count in zip_longest(animals, letters):\n",
    "    print(animal, count)"
   ]
  },
  {
   "cell_type": "markdown",
   "metadata": {},
   "source": [
    "## Item 12: Avoid `else` after `for` and `while`"
   ]
  },
  {
   "cell_type": "code",
   "execution_count": 109,
   "metadata": {},
   "outputs": [
    {
     "name": "stdout",
     "output_type": "stream",
     "text": [
      "wee\n",
      "weeee\n",
      "weeeeee\n",
      "wee no more\n"
     ]
    }
   ],
   "source": [
    "for i in range(3):\n",
    "    print('wee' + i*'ee')\n",
    "else:\n",
    "    print('wee no more')"
   ]
  },
  {
   "cell_type": "code",
   "execution_count": 110,
   "metadata": {},
   "outputs": [
    {
     "name": "stdout",
     "output_type": "stream",
     "text": [
      "wee\n",
      "weeee\n"
     ]
    }
   ],
   "source": [
    "for i in range(3):\n",
    "    print('wee' + i*'ee')\n",
    "    if i == 1:\n",
    "        break\n",
    "else:\n",
    "    print('wee no more')"
   ]
  },
  {
   "cell_type": "code",
   "execution_count": 111,
   "metadata": {},
   "outputs": [
    {
     "name": "stdout",
     "output_type": "stream",
     "text": [
      "But I will\n"
     ]
    }
   ],
   "source": [
    "for i in []:\n",
    "    print('I will never run')\n",
    "else:\n",
    "    print('But I will')"
   ]
  },
  {
   "cell_type": "code",
   "execution_count": 112,
   "metadata": {
    "scrolled": true
   },
   "outputs": [
    {
     "name": "stdout",
     "output_type": "stream",
     "text": [
      "I am free!\n"
     ]
    }
   ],
   "source": [
    "while False:\n",
    "    print('Nothing to see here')\n",
    "else:\n",
    "    print('I am free!')"
   ]
  },
  {
   "cell_type": "markdown",
   "metadata": {},
   "source": [
    "When would you use that?\n",
    "\n",
    "You could use it for a case in which your while/for never encounter a `break`."
   ]
  },
  {
   "cell_type": "code",
   "execution_count": 113,
   "metadata": {},
   "outputs": [
    {
     "name": "stdout",
     "output_type": "stream",
     "text": [
      "2\n",
      "3\n",
      "4\n",
      "Comprime\n"
     ]
    }
   ],
   "source": [
    "# in practice, you wouldn't write it like this\n",
    "a = 4\n",
    "b = 9\n",
    "for i in range(2, min(a, b) + 1):\n",
    "    print(i)\n",
    "    if a % i == 0 and b % i == 0:\n",
    "        print('Not coprime')\n",
    "        break\n",
    "else:\n",
    "    print('Comprime')"
   ]
  },
  {
   "cell_type": "code",
   "execution_count": 115,
   "metadata": {},
   "outputs": [
    {
     "data": {
      "text/plain": [
       "True"
      ]
     },
     "execution_count": 115,
     "metadata": {},
     "output_type": "execute_result"
    }
   ],
   "source": [
    "# 1. return early\n",
    "def coprime(a, b):\n",
    "    for i in range(2, min(a, b) + 1):\n",
    "        if a % i == 0 and b % i == 0:\n",
    "            return False\n",
    "    return True\n",
    "\n",
    "coprime(a, b)"
   ]
  },
  {
   "cell_type": "code",
   "execution_count": 116,
   "metadata": {},
   "outputs": [
    {
     "data": {
      "text/plain": [
       "True"
      ]
     },
     "execution_count": 116,
     "metadata": {},
     "output_type": "execute_result"
    }
   ],
   "source": [
    "# 2. have a result variable\n",
    "def coprime(a, b):\n",
    "    is_coprime = True\n",
    "    for i in range(2, min(a, b) + 1):\n",
    "        if a % i == 0 and b % i == 0:\n",
    "            is_coprime = False\n",
    "            break\n",
    "    return is_coprime\n",
    "\n",
    "coprime(a, b)"
   ]
  },
  {
   "cell_type": "markdown",
   "metadata": {},
   "source": [
    "## Item 13: Use each block in `try`/`except`/`else`/`finally`\n",
    "Each block in the exception handling has a purpose."
   ]
  },
  {
   "cell_type": "markdown",
   "metadata": {},
   "source": [
    "### Finally\n",
    "Want exceptions to propagate up and run cleanup code even when exceptions occur."
   ]
  },
  {
   "cell_type": "code",
   "execution_count": 117,
   "metadata": {},
   "outputs": [],
   "source": [
    "handle = open(\"my_file.txt\")\n",
    "try:\n",
    "    # will always propagate\n",
    "    data = handle.read()\n",
    "finally:\n",
    "    # guaranteed to run\n",
    "    handle.close()"
   ]
  },
  {
   "cell_type": "markdown",
   "metadata": {},
   "source": [
    "### Else\n",
    "If `try` doesn't raise an exception, `else` will run. Minimize the amount of code in `try`."
   ]
  },
  {
   "cell_type": "code",
   "execution_count": 118,
   "metadata": {},
   "outputs": [],
   "source": [
    "def load_json_key(data, key):\n",
    "    try:\n",
    "        # may raise ValueError\n",
    "        result_dict = json.loads(data)\n",
    "    except ValueError as e:\n",
    "        raise KeyError from e\n",
    "    else:\n",
    "        # may raise KeyError\n",
    "        return result_dict[key]"
   ]
  },
  {
   "cell_type": "markdown",
   "metadata": {},
   "source": [
    "### All the things"
   ]
  },
  {
   "cell_type": "code",
   "execution_count": 120,
   "metadata": {},
   "outputs": [],
   "source": [
    "UNDEFINED = object()\n",
    "\n",
    "def divide_json(path):\n",
    "    # may raise IOError\n",
    "    handle = open(path, 'r+')\n",
    "    try:\n",
    "        # may raise UnicodeDecodeError\n",
    "        data = handle.read()\n",
    "        # may raise ValueError\n",
    "        op = json.loads(data)\n",
    "        # may raise ZeroDivisionError\n",
    "        value = (op['numerator'] /\n",
    "                op['denominator'])\n",
    "    # fires on specific error\n",
    "    except ZeroDivisionError as e:\n",
    "        return UNDEFINED\n",
    "    # runs if except doesn't fire\n",
    "    else:\n",
    "        op['result'] = value\n",
    "        result = json.dumps(op)\n",
    "        handle.seek(0)\n",
    "        # may raise IOError\n",
    "        handle.write(result)\n",
    "        return value\n",
    "    # happens no matter the result\n",
    "    finally:\n",
    "        handle.close()"
   ]
  }
 ],
 "metadata": {
  "kernelspec": {
   "display_name": "Python 3",
   "language": "python",
   "name": "python3"
  },
  "language_info": {
   "codemirror_mode": {
    "name": "ipython",
    "version": 3
   },
   "file_extension": ".py",
   "mimetype": "text/x-python",
   "name": "python",
   "nbconvert_exporter": "python",
   "pygments_lexer": "ipython3",
   "version": "3.6.4"
  }
 },
 "nbformat": 4,
 "nbformat_minor": 2
}
