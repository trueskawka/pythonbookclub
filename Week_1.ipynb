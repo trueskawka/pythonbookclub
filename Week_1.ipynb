{
 "cells": [
  {
   "cell_type": "markdown",
   "metadata": {},
   "source": [
    "# Pythonic thinking"
   ]
  },
  {
   "cell_type": "code",
   "execution_count": 10,
   "metadata": {},
   "outputs": [
    {
     "name": "stdout",
     "output_type": "stream",
     "text": [
      "The pycodestyle_magic extension is already loaded. To reload it, use:\n",
      "  %reload_ext pycodestyle_magic\n"
     ]
    }
   ],
   "source": [
    "# Install pycodestyle for PEP8 to work\n",
    "# add a global setting in pycodestyle config to ignore the no new line rule\n",
    "\n",
    "# pip install pycodestyle\n",
    "# pip install pycodestyle_magic\n",
    "%load_ext pycodestyle_magic"
   ]
  },
  {
   "cell_type": "markdown",
   "metadata": {},
   "source": [
    "## Item 2: PEP8\n",
    "\n",
    "Whitespace:\n",
    "- four spaces in a tab\n",
    "- four spaces for syntactic indenting\n",
    "- 79 chars lines\n",
    "- long expressions indented by four extra spaces on the next line\n",
    "- in a file, functions and classes separated by two blank lines\n",
    "- in a class, methods separated by one blank line\n",
    "- no spaces around: list indexes, function calls, keyword argument assignments\n",
    "- one space before and after variable assignments\n",
    "\n",
    "Naming:\n",
    "- `lowercase_underscore` - functions, variables, attributes\n",
    "- `_leading_underscore` - protected instance (accessible within the class and sub-classes)\n",
    "- `__double_leading_underscore` - private instance (accessible within the class)\n",
    "- `CapitalizedWord` - classes and exceptions\n",
    "- `ALL_CAPS` - module-level constants\n",
    "- `self` - instance methods in classes\n",
    "- `cls` - class methods\n",
    "\n",
    "Expressions and statements:\n",
    "- inline negation `(if a is not b)`\n",
    "- don't check empty by checking length, use `if not <item>` (empty values implicitly evaluate to `False`)\n",
    "- don't check non-empty by checking length, use `if <item>`\n",
    "- avoid single-line `if`, `for`, `while`, and `except` - multiple lines for clarity\n",
    "- put `import` at the top of the file\n",
    "- use absolute names for importing modules, e.g. `from bar import foo`\n",
    "- for relative imports use explicit syntax, e.g. `from . import foo`\n",
    "- imports: standard library modules, third-party modules, your own modules; each subsection alphabetical"
   ]
  },
  {
   "cell_type": "markdown",
   "metadata": {},
   "source": [
    "## Item 3: `bytes`, `str`, and `unicode`\n",
    "\n",
    "Python 3:\n",
    "- `bytes` - raw 8-bit values, binary serialization format represented by a sequence of 8-bit integers, good for storing data and sending it to other applications, can only use ASCII literal characters\n",
    "- `str` - Unicode characters, no binary encoding associated (represented internally as a sequence of Unicode codepoints), default type when creating a string\n",
    "\n",
    "Python 2:\n",
    "- `unicode` - Unicode characters, no binary encoding associated\n",
    "- `str` - raw 8-bit values\n",
    "\n",
    "Represent Unicode characters as binary:\n",
    "- most common encoding is `UTF-8`\n",
    "- Unicode -> binary - `encode`\n",
    "- binary -> Unicode - `decode`\n",
    "\n",
    "Encode and decode at the furthest boundary of interfaces - the core should use Unicode (`str` in Python 3 and `unicode` in Python 2), not assume a specific character encoding. Accepting of alternative text encodings, strict about output encoding (ideally `UTF-8`).\n",
    "\n",
    "Two most commmon cases:\n",
    "- operate on raw 8-bit values with `UTF-8` encoded characters (or a different encoding)\n",
    "- operate on Unicode characers that have no specific encoding\n",
    "\n",
    "It's useful to have helper methods that convert input to `bytes` and `str` (Python 3, Python 2 would need `unicode` and `str`)."
   ]
  },
  {
   "cell_type": "code",
   "execution_count": 26,
   "metadata": {},
   "outputs": [],
   "source": [
    "%%pycodestyle\n",
    "\n",
    "\n",
    "def to_str(bytes_or_str):\n",
    "    \"\"\"\n",
    "    @input - bytes or str\n",
    "    @output - str\n",
    "    \"\"\"\n",
    "    if isinstance(bytes_or_str, bytes):\n",
    "        value = bytes_or_str.decode('utf-8')\n",
    "    else:\n",
    "        value = bytes_or_str\n",
    "    return value\n",
    "\n",
    "\n",
    "def to_bytes(bytes_or_str):\n",
    "    \"\"\"\n",
    "    @input - bytes or str\n",
    "    @output - bytes\n",
    "    \"\"\"\n",
    "    if isinstance(bytes_or_str, str):\n",
    "        value = bytes_or_str.encode('utf-8')\n",
    "    else:\n",
    "        value = bytes_or_str\n",
    "    return value"
   ]
  },
  {
   "cell_type": "markdown",
   "metadata": {},
   "source": [
    "There are gotchas when dealing with raw 8-bit values and Unicode.\n",
    "\n",
    "1. In Python 2, `unicode` and `str` seem to be the same type when a `str` only contains 7-bit ASCII characters:\n",
    "    - you can combine them together using `+`\n",
    "    - you can compare them using equality and inequality operators\n",
    "    - you can use `unicode` in format strings like '%s'\n",
    "\n",
    "\n",
    "2. In Python 3, `bytes` and `str` instances are never equivalent (not even when empty), so you must be more deliberate about types. You can't combine them or compare them. They're not friends. They don't mix.\n",
    "\n",
    "\n",
    "3. Operations involving file handles (`open`) default to `UTF-8` encoding in Python 3, binary encoding in Python 2.\n",
    "    - in Python 2, `with open(file, 'w')` will work for binary data, would fail in Python 3\n",
    "    - in Python 3, you need to open in write binary mode instead `with open(file, 'wb')`\n",
    "    - same with reading - Python 2 uses `r` for binary, Python 3 requires `rb` mode"
   ]
  },
  {
   "cell_type": "code",
   "execution_count": 30,
   "metadata": {},
   "outputs": [
    {
     "name": "stdout",
     "output_type": "stream",
     "text": [
      "<class 'str'>\n",
      "<class 'bytes'>\n"
     ]
    }
   ],
   "source": [
    "print(type('Kitten!'))\n",
    "print(type(b'Kitten!'))"
   ]
  },
  {
   "cell_type": "code",
   "execution_count": 36,
   "metadata": {},
   "outputs": [
    {
     "name": "stdout",
     "output_type": "stream",
     "text": [
      "b'$%@#'\n"
     ]
    },
    {
     "data": {
      "text/plain": [
       "'$%@#'"
      ]
     },
     "execution_count": 36,
     "metadata": {},
     "output_type": "execute_result"
    }
   ],
   "source": [
    "string = '$%@#'\n",
    "\n",
    "# print bytes\n",
    "encoded = string.encode('utf-8')\n",
    "print(encoded)\n",
    "\n",
    "# print str\n",
    "encoded.decode()"
   ]
  },
  {
   "cell_type": "markdown",
   "metadata": {},
   "source": [
    "### But why?\n",
    "There is no way to determine what type of encoding byte strings are. Technically, at the lowest level, everything is made of bytes, but to be practically usable in applications we need to know the encoding. And using Unicode strings helps us preserve this information.\n",
    "\n",
    "Sources:\n",
    "- https://timothybramlett.com/Strings_Bytes_and_Unicode_in_Python_2_and_3.html\n",
    "- https://medium.com/better-programming/strings-unicode-and-bytes-in-python-3-everything-you-always-wanted-to-know-27dc02ff2686"
   ]
  },
  {
   "cell_type": "markdown",
   "metadata": {},
   "source": [
    "### The Unicode sandwich\n",
    "As mentioned before, you want `bytes` on input and output, but manipulate `str` in your application.\n",
    "\n",
    "```\n",
    "------------------\n",
    "   bytes (input)    <-- data from the outside world\n",
    "------------------\n",
    "     decode()\n",
    "------------------\n",
    "str (manipulation)  <-- access to many useful string manipulation libraries and methods\n",
    "------------------\n",
    "     encode()\n",
    "------------------\n",
    "  bytes (output)    <-- send it back to the outside world\n",
    "------------------\n",
    "```\n",
    "\n",
    "Fun talk about Unicode: https://nedbatchelder.com/text/unipain.html"
   ]
  },
  {
   "cell_type": "markdown",
   "metadata": {},
   "source": [
    "## Item 4: Helper functions\n",
    "Python is pretty expressive, which may encourage you to write single-line expressions with a lot of logic. But readability outweights brevity."
   ]
  },
  {
   "cell_type": "code",
   "execution_count": 52,
   "metadata": {},
   "outputs": [],
   "source": [
    "from urllib.parse import parse_qs"
   ]
  },
  {
   "cell_type": "code",
   "execution_count": 76,
   "metadata": {},
   "outputs": [
    {
     "name": "stdout",
     "output_type": "stream",
     "text": [
      "{'red': ['5'], 'blue': ['0'], 'green': ['']}\n",
      "\n",
      "Red:      ['5']\n",
      "Green:    ['']\n",
      "Opacity:  None\n",
      "\n",
      "Red:     '5'\n",
      "Green:   0\n",
      "Opacity: 0\n",
      "\n",
      "Red:     5\n",
      "Green:   0\n",
      "Opacity: 0\n",
      "\n",
      "Red:     5\n",
      "Green:   0\n",
      "Opacity: 0\n"
     ]
    }
   ],
   "source": [
    "my_values = parse_qs('red=5&blue=0&green=', keep_blank_values=True)\n",
    "print(repr(my_values))\n",
    "\n",
    "print('\\nRed:     ', my_values.get('red')) \n",
    "print('Green:   ', my_values.get('green'))\n",
    "print('Opacity: ', my_values.get('opacity'))\n",
    "\n",
    "red = my_values.get('red', [''])[0] or 0\n",
    "green = my_values.get('green', [''])[0] or 0\n",
    "opacity = my_values.get('opacity', [''])[0] or 0\n",
    "\n",
    "print('\\nRed:     %r' % red) \n",
    "print('Green:   %r' % green)\n",
    "print('Opacity: %r' % opacity)\n",
    "\n",
    "red = int(my_values.get('red', [''])[0] or 0)\n",
    "green = int(my_values.get('green', [''])[0] or 0)\n",
    "opacity = int(my_values.get('opacity', [''])[0] or 0)\n",
    "\n",
    "print('\\nRed:     %r' % red) \n",
    "print('Green:   %r' % green)\n",
    "print('Opacity: %r' % opacity)\n",
    "\n",
    "# ternary operator is a bit clearer, but not too much of an improvement\n",
    "red = my_values.get('red', ['']) \n",
    "red = int(red[0]) if red[0] else 0\n",
    "green = my_values.get('green', ['']) \n",
    "green = int(green[0]) if green[0] else 0\n",
    "opacity = my_values.get('opacity', [''])\n",
    "opacity = int(opacity[0]) if opacity[0] else 0\n",
    "\n",
    "print('\\nRed:     %r' % red) \n",
    "print('Green:   %r' % green)\n",
    "print('Opacity: %r' % opacity)"
   ]
  },
  {
   "cell_type": "code",
   "execution_count": 72,
   "metadata": {},
   "outputs": [
    {
     "data": {
      "text/plain": [
       "0"
      ]
     },
     "execution_count": 72,
     "metadata": {},
     "output_type": "execute_result"
    }
   ],
   "source": [
    "def get_first_int(values, key, default=0):\n",
    "    found = values.get(key, [''])\n",
    "    if found[0]:\n",
    "        found = int(found[0])\n",
    "    else:\n",
    "        found = default\n",
    "    return found\n",
    "\n",
    "\n",
    "get_first_int(my_values, 'green')"
   ]
  },
  {
   "cell_type": "markdown",
   "metadata": {},
   "source": [
    "## Item 5: Slicing sequences\n",
    "Slicing gets a subset of a sequence with minimal effort, built-in for `list`, `str`, and `bytes`. Can be extended to any Python class with `__getitem__` and `__setitem__`.\n",
    "\n",
    "Basic syntax: `somelist[start:end]` (start inclusive, end exclusive)"
   ]
  },
  {
   "cell_type": "code",
   "execution_count": 125,
   "metadata": {},
   "outputs": [
    {
     "name": "stdout",
     "output_type": "stream",
     "text": [
      "First four                   ['a', 'b', 'c', 'd']\n",
      "Last four                                        ['e', 'f', 'g', 'h']\n",
      "Middle two                                  ['d', 'e']\n",
      "All                          ['a', 'b', 'c', 'd', 'e', 'f', 'g', 'h']\n",
      "First five                   ['a', 'b', 'c', 'd', 'e']\n",
      "All but last                 ['a', 'b', 'c', 'd', 'e', 'f', 'g']\n",
      "Everything after first four                      ['e', 'f', 'g', 'h']\n",
      "Last three                                            ['f', 'g', 'h']\n",
      "Third to fifth                         ['c', 'd', 'e']\n",
      "Third to second last                   ['c', 'd', 'e', 'f', 'g']\n",
      "Third last to second last                             ['f', 'g']\n",
      "First twenty items           ['a', 'b', 'c', 'd', 'e', 'f', 'g', 'h']\n",
      "Last twenty items            ['a', 'b', 'c', 'd', 'e', 'f', 'g', 'h']\n"
     ]
    },
    {
     "data": {
      "text/plain": [
       "['a', 'b', 'c', 'd', 'e', 'f', 'g', 'h']"
      ]
     },
     "execution_count": 125,
     "metadata": {},
     "output_type": "execute_result"
    }
   ],
   "source": [
    "letters = ['a', 'b', 'c', 'd', 'e', 'f', 'g', 'h']\n",
    "\n",
    "print('First four                  ', letters[:4])\n",
    "print('Last four                                       ', letters[-4:])\n",
    "print('Middle two                                 ', letters[3:-3])\n",
    "\n",
    "# Would throw AssertionError if not correct\n",
    "assert letters[:5] == letters[0:5]\n",
    "assert letters[5:] == letters[5:len(letters)]\n",
    "\n",
    "print(\"All                         \", letters[:])\n",
    "print(\"First five                  \", letters[:5])\n",
    "print(\"All but last                \", letters[:-1])\n",
    "print(\"Everything after first four                     \", letters[4:])\n",
    "print(\"Last three                                           \", letters[-3:])\n",
    "print(\"Third to fifth                        \", letters[2:5])\n",
    "print(\"Third to second last                  \", letters[2:-1])\n",
    "print(\"Third last to second last                            \",letters[-3:-1])\n",
    "\n",
    "# calling letters[20] directly causes an IndexError\n",
    "# but slicing out of bonds is fine\n",
    "print(\"First twenty items          \", letters[:20])\n",
    "print(\"Last twenty items           \", letters[-20:])\n",
    "\n",
    "# copy of the original list\n",
    "letters[-0:]"
   ]
  },
  {
   "cell_type": "markdown",
   "metadata": {},
   "source": [
    "Slicing a list creates a new list. References to objects from the original list are maintained, but a change in the result of slicing won't affect the original list."
   ]
  },
  {
   "cell_type": "code",
   "execution_count": 115,
   "metadata": {
    "scrolled": true
   },
   "outputs": [
    {
     "name": "stdout",
     "output_type": "stream",
     "text": [
      "Before:                          ['e', 'f', 'g', 'h']\n",
      "After:                           ['e', 'kitten', 'g', 'h']\n",
      "No change:   ['a', 'b', 'c', 'd', 'e', 'f', 'g', 'h']\n"
     ]
    }
   ],
   "source": [
    "letters_two = letters[4:]\n",
    "print(\"Before:                         \", letters_two)\n",
    "letters_two[1] = 'kitten'\n",
    "print(\"After:                          \", letters_two)\n",
    "print(\"No change:  \", letters)"
   ]
  },
  {
   "cell_type": "markdown",
   "metadata": {},
   "source": [
    "When using assignemts, slices will replace the specified range. They don't need to be the same size (unlike tuple assignments `a, b = c[:2]`). Values before and after the slice will be preserved and the list will grow or shrink."
   ]
  },
  {
   "cell_type": "code",
   "execution_count": 119,
   "metadata": {},
   "outputs": [
    {
     "name": "stdout",
     "output_type": "stream",
     "text": [
      "Before  ['a', 'b', 'c', 'd', 'e', 'f', 'g', 'h']\n",
      "After   ['a', 'b', 'tiny', 'lil', 'kitten', 'h']\n"
     ]
    }
   ],
   "source": [
    "print(\"Before \", letters)\n",
    "letters[2:7] = ['tiny', 'lil', 'kitten']\n",
    "print(\"After  \", letters)"
   ]
  },
  {
   "cell_type": "markdown",
   "metadata": {},
   "source": [
    "Leaving both start and end empty will make a copy of the original list."
   ]
  },
  {
   "cell_type": "code",
   "execution_count": 123,
   "metadata": {},
   "outputs": [],
   "source": [
    "a = [1, 2]\n",
    "b = a[:]\n",
    "\n",
    "assert b == a and b is not a"
   ]
  },
  {
   "cell_type": "markdown",
   "metadata": {},
   "source": [
    "Assigning a slice with no start or end will replace the entire contents with a copy of what's referenced (instead of a new list)"
   ]
  },
  {
   "cell_type": "code",
   "execution_count": 124,
   "metadata": {},
   "outputs": [
    {
     "name": "stdout",
     "output_type": "stream",
     "text": [
      "Before a  [1, 2]\n",
      "Before b  [1, 2]\n",
      "After a   ['tiny', 'lil', 'kitten']\n",
      "After b   ['tiny', 'lil', 'kitten']\n"
     ]
    }
   ],
   "source": [
    "b = a\n",
    "print(\"Before a \", a)\n",
    "print(\"Before b \", b)\n",
    "a[:] = ['tiny', 'lil', 'kitten']\n",
    "assert a is b\n",
    "print(\"After a  \", a)\n",
    "print(\"After b  \", b)"
   ]
  },
  {
   "cell_type": "markdown",
   "metadata": {},
   "source": [
    "Questions:\n",
    "- what does it mean to contain a raw 8-bit value?"
   ]
  }
 ],
 "metadata": {
  "kernelspec": {
   "display_name": "Python 3",
   "language": "python",
   "name": "python3"
  },
  "language_info": {
   "codemirror_mode": {
    "name": "ipython",
    "version": 3
   },
   "file_extension": ".py",
   "mimetype": "text/x-python",
   "name": "python",
   "nbconvert_exporter": "python",
   "pygments_lexer": "ipython3",
   "version": "3.7.2"
  }
 },
 "nbformat": 4,
 "nbformat_minor": 2
}
