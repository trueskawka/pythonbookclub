{
 "cells": [
  {
   "cell_type": "markdown",
   "metadata": {},
   "source": [
    "# Pythonic thinking"
   ]
  },
  {
   "cell_type": "code",
   "execution_count": 10,
   "metadata": {},
   "outputs": [
    {
     "name": "stdout",
     "output_type": "stream",
     "text": [
      "The pycodestyle_magic extension is already loaded. To reload it, use:\n",
      "  %reload_ext pycodestyle_magic\n"
     ]
    }
   ],
   "source": [
    "# Install pycodestyle for PEP8 to work\n",
    "# add a global setting in pycodestyle config to ignore the no new line rule\n",
    "\n",
    "# pip install pycodestyle\n",
    "# pip install pycodestyle_magic\n",
    "%load_ext pycodestyle_magic"
   ]
  },
  {
   "cell_type": "markdown",
   "metadata": {},
   "source": [
    "Whitespace:\n",
    "- four spaces in a tab\n",
    "- four spaces for syntactic indenting\n",
    "- 79 chars lines\n",
    "- long expressions indented by four extra spaces on the next line\n",
    "- in a file, functions and classes separated by two blank lines\n",
    "- in a class, methods separated by one blank line\n",
    "- no spaces around: list indexes, function calls, keyword argument assignments\n",
    "- one space before and after variable assignments\n",
    "\n",
    "Naming:\n",
    "- `lowercase_underscore` - functions, variables, attributes\n",
    "- `_leading_underscore` - protected instance\n",
    "- `__double_leading_underscore` - private instance\n",
    "- `CapitalizedWord` - classes and exceptions\n",
    "- `ALL_CAPS` - module-level constants\n",
    "- `self` - instance methods in classes\n",
    "- `cls` - class methods\n",
    "\n",
    "Expressions and statements:\n",
    "- inline negation `(if a is not b)`\n",
    "- don't check empty by checking length, use `if not <item>` (empty values implicitly evaluate to `False`)\n",
    "- don't check non-empty by checking length, use `if <item>`\n",
    "- avoid single-line `if`, `for`, `while`, and `except` - multiple lines for clarity\n",
    "- put `import` at the top of the file\n",
    "- use absolute names for importing modules, e.g. `from bar import foo`\n",
    "- for relative imports use explicit syntax, e.g. `from . import foo`\n",
    "- imports: standard library modules, third-party modules, your own modules; each subsection alphabetical"
   ]
  },
  {
   "cell_type": "code",
   "execution_count": null,
   "metadata": {},
   "outputs": [],
   "source": []
  },
  {
   "cell_type": "markdown",
   "metadata": {},
   "source": [
    "Questions:\n",
    "- what's a protected instance?\n",
    "- what's the difference between private and protected?"
   ]
  }
 ],
 "metadata": {
  "kernelspec": {
   "display_name": "Python 3",
   "language": "python",
   "name": "python3"
  },
  "language_info": {
   "codemirror_mode": {
    "name": "ipython",
    "version": 3
   },
   "file_extension": ".py",
   "mimetype": "text/x-python",
   "name": "python",
   "nbconvert_exporter": "python",
   "pygments_lexer": "ipython3",
   "version": "3.7.2"
  }
 },
 "nbformat": 4,
 "nbformat_minor": 2
}
